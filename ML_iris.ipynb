{
 "cells": [
  {
   "cell_type": "code",
   "execution_count": 6,
   "metadata": {
    "collapsed": true
   },
   "outputs": [],
   "source": [
    "#load packages\n",
    "\n",
    "#for computing\n",
    "import numpy as np\n",
    "\n",
    "#train test split \n",
    "from sklearn.model_selection import train_test_split\n",
    "\n",
    "#for iris data \n",
    "from sklearn import datasets\n",
    "\n",
    "#machine learning packages\n",
    "from sklearn import tree\n",
    "from sklearn.svm import SVC\n",
    "from sklearn.linear_model import Perceptron\n",
    "from sklearn.neighbors import KNeighborsClassifier\n",
    "\n",
    "#accuracy for the machine learning packages\n",
    "from sklearn.metrics import accuracy_score"
   ]
  },
  {
   "cell_type": "code",
   "execution_count": 7,
   "metadata": {},
   "outputs": [
    {
     "data": {
      "text/plain": [
       "((150, 4), (150,))"
      ]
     },
     "execution_count": 7,
     "metadata": {},
     "output_type": "execute_result"
    }
   ],
   "source": [
    "#loading data\n",
    "iris = datasets.load_iris()\n",
    "iris.data.shape, iris.target.shape"
   ]
  },
  {
   "cell_type": "code",
   "execution_count": 8,
   "metadata": {
    "collapsed": true
   },
   "outputs": [],
   "source": [
    "#training and testing data\n",
    "x_train, x_test, y_train, y_test = train_test_split(iris.data, iris.target, test_size=0.3)"
   ]
  },
  {
   "cell_type": "code",
   "execution_count": 15,
   "metadata": {
    "collapsed": true
   },
   "outputs": [],
   "source": [
    "#declare packages\n",
    "clf_tree       = tree.DecisionTreeClassifier()\n",
    "\n",
    "clf_svm        = SVC()\n",
    "\n",
    "clf_perceptron = Perceptron()\n",
    "\n",
    "clf_KNN        = KNeighborsClassifier(\n",
    "                    algorithm='auto', \n",
    "                    leaf_size=30, \n",
    "                    metric='minkowski',\n",
    "                    metric_params=None, \n",
    "                    n_jobs=1, \n",
    "                    n_neighbors=5, \n",
    "                    p=2,\n",
    "                    weights='uniform')"
   ]
  },
  {
   "cell_type": "code",
   "execution_count": 16,
   "metadata": {},
   "outputs": [
    {
     "name": "stderr",
     "output_type": "stream",
     "text": [
      "/anaconda3/lib/python3.6/site-packages/sklearn/linear_model/stochastic_gradient.py:128: FutureWarning: max_iter and tol parameters have been added in <class 'sklearn.linear_model.perceptron.Perceptron'> in 0.19. If both are left unset, they default to max_iter=5 and tol=None. If tol is not None, max_iter defaults to max_iter=1000. From 0.21, default max_iter will be 1000, and default tol will be 1e-3.\n",
      "  \"and default tol will be 1e-3.\" % type(self), FutureWarning)\n"
     ]
    },
    {
     "data": {
      "text/plain": [
       "KNeighborsClassifier(algorithm='auto', leaf_size=30, metric='minkowski',\n",
       "           metric_params=None, n_jobs=1, n_neighbors=5, p=2,\n",
       "           weights='uniform')"
      ]
     },
     "execution_count": 16,
     "metadata": {},
     "output_type": "execute_result"
    }
   ],
   "source": [
    "#train each model\n",
    "clf_tree.fit(x_train, y_train)\n",
    "clf_svm.fit(x_train, y_train)\n",
    "clf_perceptron.fit(x_train, y_train)\n",
    "clf_KNN.fit(x_train, y_train)"
   ]
  },
  {
   "cell_type": "code",
   "execution_count": 24,
   "metadata": {},
   "outputs": [
    {
     "name": "stdout",
     "output_type": "stream",
     "text": [
      "Accuracy for DecisionTree: 97.77777777777777\n"
     ]
    }
   ],
   "source": [
    "pred_tree = clf_tree.predict(x_test)\n",
    "acc_tree = accuracy_score(y_test, pred_tree) * 100\n",
    "print('Accuracy for DecisionTree: {}'.format(acc_tree))"
   ]
  },
  {
   "cell_type": "code",
   "execution_count": 25,
   "metadata": {},
   "outputs": [
    {
     "name": "stdout",
     "output_type": "stream",
     "text": [
      "Accuracy for SVM: 97.77777777777777\n"
     ]
    }
   ],
   "source": [
    "pred_svm = clf_svm.predict(x_test)\n",
    "acc_svm = accuracy_score(y_test, pred_svm) * 100\n",
    "print('Accuracy for SVM: {}'.format(acc_svm))"
   ]
  },
  {
   "cell_type": "code",
   "execution_count": 26,
   "metadata": {},
   "outputs": [
    {
     "name": "stdout",
     "output_type": "stream",
     "text": [
      "Accuracy for perceptron: 80.0\n"
     ]
    }
   ],
   "source": [
    "pred_per = clf_perceptron.predict(x_test)\n",
    "acc_per = accuracy_score(y_test, pred_per) * 100\n",
    "print('Accuracy for perceptron: {}'.format(acc_per))"
   ]
  },
  {
   "cell_type": "code",
   "execution_count": 27,
   "metadata": {},
   "outputs": [
    {
     "name": "stdout",
     "output_type": "stream",
     "text": [
      "Accuracy for KNN: 100.0\n"
     ]
    }
   ],
   "source": [
    "pred_KNN = clf_KNN.predict(x_test)\n",
    "acc_KNN = accuracy_score(y_test, pred_KNN) * 100\n",
    "print('Accuracy for KNN: {}'.format(acc_KNN))"
   ]
  },
  {
   "cell_type": "code",
   "execution_count": 31,
   "metadata": {},
   "outputs": [
    {
     "name": "stdout",
     "output_type": "stream",
     "text": [
      "Best species classifier is KNN\n"
     ]
    }
   ],
   "source": [
    "# The best classifier from svm, per, KNN\n",
    "index = np.argmax([acc_tree, acc_svm, acc_per, acc_KNN])\n",
    "classifiers = {0: 'tree', 1: 'SVM', 2: 'Perceptron', 3: 'KNN'}\n",
    "print('Best species classifier is {}'.format(classifiers[index]))"
   ]
  }
 ],
 "metadata": {
  "kernelspec": {
   "display_name": "Python 3",
   "language": "python",
   "name": "python3"
  },
  "language_info": {
   "codemirror_mode": {
    "name": "ipython",
    "version": 3
   },
   "file_extension": ".py",
   "mimetype": "text/x-python",
   "name": "python",
   "nbconvert_exporter": "python",
   "pygments_lexer": "ipython3",
   "version": "3.6.3"
  }
 },
 "nbformat": 4,
 "nbformat_minor": 2
}
